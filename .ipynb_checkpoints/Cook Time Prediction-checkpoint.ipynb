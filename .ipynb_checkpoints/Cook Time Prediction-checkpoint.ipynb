{
 "cells": [
  {
   "cell_type": "code",
   "execution_count": 1,
   "metadata": {},
   "outputs": [],
   "source": [
    "import numpy as np\n",
    "import pandas as pd\n",
    "import matplotlib.pyplot as plt\n",
    "%matplotlib inline\n",
    "import seaborn as sns; sns.set()"
   ]
  },
  {
   "cell_type": "code",
   "execution_count": 2,
   "metadata": {},
   "outputs": [
    {
     "data": {
      "text/html": [
       "<div>\n",
       "<style scoped>\n",
       "    .dataframe tbody tr th:only-of-type {\n",
       "        vertical-align: middle;\n",
       "    }\n",
       "\n",
       "    .dataframe tbody tr th {\n",
       "        vertical-align: top;\n",
       "    }\n",
       "\n",
       "    .dataframe thead th {\n",
       "        text-align: right;\n",
       "    }\n",
       "</style>\n",
       "<table border=\"1\" class=\"dataframe\">\n",
       "  <thead>\n",
       "    <tr style=\"text-align: right;\">\n",
       "      <th></th>\n",
       "      <th>Restaurant</th>\n",
       "      <th>Latitude</th>\n",
       "      <th>Longitude</th>\n",
       "      <th>Cuisines</th>\n",
       "      <th>Average_Cost</th>\n",
       "      <th>Minimum_Order</th>\n",
       "      <th>Rating</th>\n",
       "      <th>Votes</th>\n",
       "      <th>Reviews</th>\n",
       "      <th>Cook_Time_Mins</th>\n",
       "      <th>Numeric_Rating</th>\n",
       "    </tr>\n",
       "  </thead>\n",
       "  <tbody>\n",
       "    <tr>\n",
       "      <th>0</th>\n",
       "      <td>ID_6321</td>\n",
       "      <td>39.262605</td>\n",
       "      <td>-85.837372</td>\n",
       "      <td>Fast Food, Rolls, Burger, Salad, Wraps</td>\n",
       "      <td>20.0</td>\n",
       "      <td>50.0</td>\n",
       "      <td>3.5</td>\n",
       "      <td>12.0</td>\n",
       "      <td>4.0</td>\n",
       "      <td>30</td>\n",
       "      <td>3.5</td>\n",
       "    </tr>\n",
       "    <tr>\n",
       "      <th>1</th>\n",
       "      <td>ID_2882</td>\n",
       "      <td>39.775933</td>\n",
       "      <td>-85.740581</td>\n",
       "      <td>Ice Cream, Desserts</td>\n",
       "      <td>10.0</td>\n",
       "      <td>50.0</td>\n",
       "      <td>3.5</td>\n",
       "      <td>11.0</td>\n",
       "      <td>4.0</td>\n",
       "      <td>30</td>\n",
       "      <td>3.5</td>\n",
       "    </tr>\n",
       "    <tr>\n",
       "      <th>2</th>\n",
       "      <td>ID_1595</td>\n",
       "      <td>39.253436</td>\n",
       "      <td>-85.123779</td>\n",
       "      <td>Italian, Street Food, Fast Food</td>\n",
       "      <td>15.0</td>\n",
       "      <td>50.0</td>\n",
       "      <td>3.6</td>\n",
       "      <td>99.0</td>\n",
       "      <td>30.0</td>\n",
       "      <td>65</td>\n",
       "      <td>3.6</td>\n",
       "    </tr>\n",
       "    <tr>\n",
       "      <th>3</th>\n",
       "      <td>ID_5929</td>\n",
       "      <td>39.029841</td>\n",
       "      <td>-85.332050</td>\n",
       "      <td>Mughlai, North Indian, Chinese</td>\n",
       "      <td>25.0</td>\n",
       "      <td>99.0</td>\n",
       "      <td>3.7</td>\n",
       "      <td>176.0</td>\n",
       "      <td>95.0</td>\n",
       "      <td>30</td>\n",
       "      <td>3.7</td>\n",
       "    </tr>\n",
       "    <tr>\n",
       "      <th>4</th>\n",
       "      <td>ID_6123</td>\n",
       "      <td>39.882284</td>\n",
       "      <td>-85.517407</td>\n",
       "      <td>Cafe, Beverages</td>\n",
       "      <td>20.0</td>\n",
       "      <td>99.0</td>\n",
       "      <td>3.2</td>\n",
       "      <td>521.0</td>\n",
       "      <td>235.0</td>\n",
       "      <td>65</td>\n",
       "      <td>3.2</td>\n",
       "    </tr>\n",
       "  </tbody>\n",
       "</table>\n",
       "</div>"
      ],
      "text/plain": [
       "  Restaurant   Latitude  Longitude                                Cuisines  \\\n",
       "0    ID_6321  39.262605 -85.837372  Fast Food, Rolls, Burger, Salad, Wraps   \n",
       "1    ID_2882  39.775933 -85.740581                     Ice Cream, Desserts   \n",
       "2    ID_1595  39.253436 -85.123779         Italian, Street Food, Fast Food   \n",
       "3    ID_5929  39.029841 -85.332050          Mughlai, North Indian, Chinese   \n",
       "4    ID_6123  39.882284 -85.517407                         Cafe, Beverages   \n",
       "\n",
       "   Average_Cost  Minimum_Order Rating  Votes  Reviews  Cook_Time_Mins  \\\n",
       "0          20.0           50.0    3.5   12.0      4.0              30   \n",
       "1          10.0           50.0    3.5   11.0      4.0              30   \n",
       "2          15.0           50.0    3.6   99.0     30.0              65   \n",
       "3          25.0           99.0    3.7  176.0     95.0              30   \n",
       "4          20.0           99.0    3.2  521.0    235.0              65   \n",
       "\n",
       "   Numeric_Rating  \n",
       "0             3.5  \n",
       "1             3.5  \n",
       "2             3.6  \n",
       "3             3.7  \n",
       "4             3.2  "
      ]
     },
     "execution_count": 2,
     "metadata": {},
     "output_type": "execute_result"
    }
   ],
   "source": [
    "foodie_df = pd.read_csv('Clean_FoodieX_data.csv')\n",
    "foodie_df.head()"
   ]
  },
  {
   "cell_type": "markdown",
   "metadata": {},
   "source": [
    "**Note:** Here, I choose Elastic Net regression to predict ``Cook_Time`` because as we have seen in the EDA, some of the variables (e.g. ``Minimum_Order`` or ``Numeric_Rating``) are not very strongly correlated to ``Cook_Time``. Also, we see that some of the features are correlated to each other (e.g ``Votes`` and ``Reviews``). For the detailed steps, view the comments in the function below.  "
   ]
  },
  {
   "cell_type": "code",
   "execution_count": 3,
   "metadata": {},
   "outputs": [
    {
     "name": "stdout",
     "output_type": "stream",
     "text": [
      "R2 score: 0.06772592366739827\n",
      "Mean Absolute Error: 9.099929126279246\n"
     ]
    }
   ],
   "source": [
    "from sklearn.model_selection import train_test_split\n",
    "from sklearn import preprocessing\n",
    "from sklearn.pipeline import make_pipeline\n",
    "from sklearn.linear_model import ElasticNet\n",
    "from sklearn.model_selection import GridSearchCV\n",
    "from sklearn.metrics import mean_squared_error, mean_absolute_error, r2_score\n",
    "\n",
    "\n",
    "def elastic_net_reg(df, X_cols, y_col):\n",
    "    reg_df = df.dropna(subset=X_cols, axis=0)\n",
    "    \n",
    "    # Split data into training and test sets:\n",
    "    X = reg_df[X_cols].values\n",
    "    y = reg_df[y_col]\n",
    "    X_train, X_test, y_train, y_test = train_test_split(X, y, test_size=0.2, random_state=0)\n",
    "    \n",
    "    # data preprocessing and standardizing:\n",
    "    pipeline = make_pipeline(preprocessing.StandardScaler(), ElasticNet(random_state=0))\n",
    "    \n",
    "    # declare hyperparameter to tune:\n",
    "    hyperparameters = {'elasticnet__l1_ratio' : [0.25, 0.5, 0.75]}\n",
    "    \n",
    "    # tune model using cross-validation pipeline:\n",
    "    regr = GridSearchCV(pipeline, hyperparameters, cv=10)\n",
    "\n",
    "    # fit data:\n",
    "    regr.fit(X_train, y_train)\n",
    "    \n",
    "    # evaluate model on test data\n",
    "    pred = regr.predict(X_test)\n",
    "    print('R2 score:', r2_score(y_test, pred))\n",
    "    print('Mean Absolute Error:', mean_absolute_error(y_test, pred))\n",
    "    \n",
    "    return regr\n",
    "\n",
    "\n",
    "elnt_regr = elastic_net_reg(foodie_df, ['Average_Cost', 'Minimum_Order', 'Votes', 'Reviews', 'Numeric_Rating'], \n",
    "                            'Cook_Time_Mins')\n",
    "\n",
    "# print(elnt_regr.coef_)\n",
    "# print(elnt_regr.intercept_)"
   ]
  },
  {
   "cell_type": "code",
   "execution_count": 4,
   "metadata": {},
   "outputs": [
    {
     "name": "stdout",
     "output_type": "stream",
     "text": [
      "R2 score: 0.14993885314240085\n",
      "Mean Absolute Error: 8.289981505136302\n"
     ]
    }
   ],
   "source": [
    "log_foodie_df = foodie_df.copy()\n",
    "log_foodie_df['Log_Votes'] = np.log(foodie_df.Votes)\n",
    "log_foodie_df['Log_Reviews'] = np.log(foodie_df.Reviews)\n",
    "\n",
    "log_elnt_regr = elastic_net_reg(log_foodie_df, ['Average_Cost', 'Minimum_Order', 'Log_Votes', 'Log_Reviews', 'Numeric_Rating'], \n",
    "                                'Cook_Time_Mins')"
   ]
  },
  {
   "cell_type": "markdown",
   "metadata": {},
   "source": [
    "**Note:** As seen in the EDA, we know that the relationships between ``Votes``, ``Reviews`` and ``Cook_Time`` are not linear. Also, we know that some values of ``Votes`` and ``Reviews`` are very high, that's why I decide to take their log() so the magnitude difference is reduced. By doing this, we manage to increase the R2 score and bring the MAE down to 8.3. This means that on average, the prediced ``Cook_Time`` for each restaurant is skewed by 8 minutes. "
   ]
  },
  {
   "cell_type": "code",
   "execution_count": 5,
   "metadata": {},
   "outputs": [
    {
     "data": {
      "text/html": [
       "<div>\n",
       "<style scoped>\n",
       "    .dataframe tbody tr th:only-of-type {\n",
       "        vertical-align: middle;\n",
       "    }\n",
       "\n",
       "    .dataframe tbody tr th {\n",
       "        vertical-align: top;\n",
       "    }\n",
       "\n",
       "    .dataframe thead th {\n",
       "        text-align: right;\n",
       "    }\n",
       "</style>\n",
       "<table border=\"1\" class=\"dataframe\">\n",
       "  <thead>\n",
       "    <tr style=\"text-align: right;\">\n",
       "      <th></th>\n",
       "      <th>Actual</th>\n",
       "      <th>Prediction</th>\n",
       "    </tr>\n",
       "  </thead>\n",
       "  <tbody>\n",
       "    <tr>\n",
       "      <th>486</th>\n",
       "      <td>30</td>\n",
       "      <td>44.779407</td>\n",
       "    </tr>\n",
       "    <tr>\n",
       "      <th>711</th>\n",
       "      <td>30</td>\n",
       "      <td>38.091671</td>\n",
       "    </tr>\n",
       "    <tr>\n",
       "      <th>614</th>\n",
       "      <td>30</td>\n",
       "      <td>37.435981</td>\n",
       "    </tr>\n",
       "    <tr>\n",
       "      <th>1877</th>\n",
       "      <td>45</td>\n",
       "      <td>36.765665</td>\n",
       "    </tr>\n",
       "    <tr>\n",
       "      <th>183</th>\n",
       "      <td>45</td>\n",
       "      <td>41.051960</td>\n",
       "    </tr>\n",
       "    <tr>\n",
       "      <th>1338</th>\n",
       "      <td>30</td>\n",
       "      <td>35.820444</td>\n",
       "    </tr>\n",
       "    <tr>\n",
       "      <th>1235</th>\n",
       "      <td>45</td>\n",
       "      <td>43.445446</td>\n",
       "    </tr>\n",
       "    <tr>\n",
       "      <th>1025</th>\n",
       "      <td>30</td>\n",
       "      <td>41.399331</td>\n",
       "    </tr>\n",
       "    <tr>\n",
       "      <th>46</th>\n",
       "      <td>30</td>\n",
       "      <td>37.887580</td>\n",
       "    </tr>\n",
       "    <tr>\n",
       "      <th>798</th>\n",
       "      <td>45</td>\n",
       "      <td>39.032244</td>\n",
       "    </tr>\n",
       "  </tbody>\n",
       "</table>\n",
       "</div>"
      ],
      "text/plain": [
       "      Actual  Prediction\n",
       "486       30   44.779407\n",
       "711       30   38.091671\n",
       "614       30   37.435981\n",
       "1877      45   36.765665\n",
       "183       45   41.051960\n",
       "1338      30   35.820444\n",
       "1235      45   43.445446\n",
       "1025      30   41.399331\n",
       "46        30   37.887580\n",
       "798       45   39.032244"
      ]
     },
     "execution_count": 5,
     "metadata": {},
     "output_type": "execute_result"
    }
   ],
   "source": [
    "# try predicting the some random rows:\n",
    "\n",
    "consider_cols = ['Average_Cost', 'Minimum_Order', 'Log_Votes', 'Log_Reviews', 'Numeric_Rating']\n",
    "\n",
    "random_df = log_foodie_df.dropna(subset=consider_cols, axis=0).sample(10)\n",
    "random_X = random_df[consider_cols].values\n",
    "random_y = random_df.Cook_Time_Mins\n",
    "result = pd.DataFrame(data={'Actual': random_y, 'Prediction': log_elnt_regr.predict(random_X)})\n",
    "\n",
    "result"
   ]
  },
  {
   "cell_type": "markdown",
   "metadata": {},
   "source": [
    "**Note:** So far, we are only able to analyze the records with provided information for ``Reviews``, ``Votes``, and ``Numeric_Rating``. That is because some places just open (or are about to open) and data for these variables are not available yet. Now let's see if the average ``Cook_Time`` of new places are different from that of old, established restaurants."
   ]
  },
  {
   "cell_type": "code",
   "execution_count": 6,
   "metadata": {},
   "outputs": [],
   "source": [
    "def Cohen_effect_size(gr1, gr2):\n",
    "    mean_diff = np.mean(gr1) - np.mean(gr2)\n",
    "    \n",
    "    n1, n2 = len(gr1), len(gr2)\n",
    "    var1, var2 = np.var(gr1), np.var(gr2)\n",
    "    pooled_var = (n1*var1 + n2*var2)/(n1 + n2) \n",
    "    \n",
    "    d = mean_diff/ np.sqrt(pooled_var)\n",
    "    return mean_diff, d"
   ]
  },
  {
   "cell_type": "code",
   "execution_count": 7,
   "metadata": {},
   "outputs": [
    {
     "name": "stdout",
     "output_type": "stream",
     "text": [
      "Mean difference between new and old:  6.681702180472708\n",
      "Cohen effect size:  0.572005963719399\n"
     ]
    }
   ],
   "source": [
    "foodie_df['Rating'] = foodie_df['Rating'].fillna('')\n",
    "new_restaurants = foodie_df.loc[foodie_df.Rating.str.contains('NEW|Opening Soon')]\n",
    "old_restaurants = foodie_df.loc[~foodie_df.Rating.str.contains('NEW|Opening Soon')]\n",
    "\n",
    "mean_diff, effect = Cohen_effect_size(old_restaurants.Cook_Time_Mins, new_restaurants.Cook_Time_Mins)\n",
    "print(\"Mean difference between new and old: \", mean_diff)\n",
    "print(\"Cohen effect size: \", effect)"
   ]
  },
  {
   "cell_type": "markdown",
   "metadata": {},
   "source": [
    "**Comment:** On average, it takes new restaurants around 6.7 minutes less to cook and this effect is about 0.57 (pooled) standard deviations. This is considered a medium effect size."
   ]
  },
  {
   "cell_type": "markdown",
   "metadata": {},
   "source": [
    "## Is fast food actually fast?"
   ]
  },
  {
   "cell_type": "code",
   "execution_count": 8,
   "metadata": {},
   "outputs": [
    {
     "name": "stdout",
     "output_type": "stream",
     "text": [
      "Mean difference between fast and slow food:  0.09404135765791466\n",
      "Cohen effect size:  0.00796869258961153\n"
     ]
    }
   ],
   "source": [
    "fast_food = foodie_df.loc[foodie_df.Cuisines.str.contains('Fast Food')]\n",
    "slow_food = foodie_df.loc[~foodie_df.Cuisines.str.contains('Fast Food')]\n",
    "\n",
    "mean_diff, effect = Cohen_effect_size(slow_food.Cook_Time_Mins, fast_food.Cook_Time_Mins)\n",
    "print(\"Mean difference between fast and slow food: \", mean_diff)\n",
    "print(\"Cohen effect size: \", effect)"
   ]
  },
  {
   "cell_type": "markdown",
   "metadata": {},
   "source": [
    "**Comment:** On average, it takes a restaurant that serves Fast Food about the same cook time as a restaurant that doesn't."
   ]
  },
  {
   "cell_type": "code",
   "execution_count": 9,
   "metadata": {},
   "outputs": [
    {
     "name": "stdout",
     "output_type": "stream",
     "text": [
      "Mean difference between (only) fast food and slow food:  4.718958137075049\n",
      "Cohen effect size:  0.4193577321361906\n"
     ]
    }
   ],
   "source": [
    "only_fast_food = foodie_df.loc[foodie_df.Cuisines.str.contains('^Fast Food$')]\n",
    "slow_food = foodie_df.loc[~foodie_df.Cuisines.str.contains('Fast Food')]\n",
    "\n",
    "mean_diff, effect = Cohen_effect_size(slow_food.Cook_Time_Mins, only_fast_food.Cook_Time_Mins)\n",
    "print(\"Mean difference between (only) fast food and slow food: \", mean_diff)\n",
    "print(\"Cohen effect size: \", effect)"
   ]
  },
  {
   "cell_type": "markdown",
   "metadata": {},
   "source": [
    "**Comment:** On average, restaurants that serve **ONLY** Fast Food have a cook time of 4.7 minutes less than restaurants that don't include Fast Food in their menus at all. However, this effect is considered not very significant (0.5 is considered a medium effect size)."
   ]
  },
  {
   "cell_type": "code",
   "execution_count": null,
   "metadata": {},
   "outputs": [],
   "source": []
  }
 ],
 "metadata": {
  "kernelspec": {
   "display_name": "Python 3",
   "language": "python",
   "name": "python3"
  },
  "language_info": {
   "codemirror_mode": {
    "name": "ipython",
    "version": 3
   },
   "file_extension": ".py",
   "mimetype": "text/x-python",
   "name": "python",
   "nbconvert_exporter": "python",
   "pygments_lexer": "ipython3",
   "version": "3.7.6"
  }
 },
 "nbformat": 4,
 "nbformat_minor": 4
}
